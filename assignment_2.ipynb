{
 "cells": [
  {
   "cell_type": "code",
   "execution_count": 3,
   "id": "1f9b45e0-489d-4100-be3c-7ae4903a9207",
   "metadata": {},
   "outputs": [],
   "source": [
    "#answer of q.1\n",
    "# there are 2 types of comments\n",
    "# single line comment \n",
    "# multi line comment\n",
    "# single line comment is done simply by using \"#\" in starting\n",
    "# multi line comment is done using 3 stars on starting and end of the comment\n",
    "#or we can use a formula ctrl+/ for making every line a comment"
   ]
  },
  {
   "cell_type": "code",
   "execution_count": 4,
   "id": "5d69028c-a4f9-4d2e-84f8-0236fc00a787",
   "metadata": {},
   "outputs": [],
   "source": [
    "#answer of q.2\n",
    "#variables are the memory locations in which we can store our information or data of any type.\n",
    "# we can named and assign variables by simply given a name and assign the value in it \n",
    "#but for string data type we use \" \" \n",
    "#and for float and integers we simply given a value\n",
    "#for lists-[],for set{},for tuples-[] \n",
    "# we cannot start our variable name with a special case chatracter(#,%,*,@ etc)\n",
    "#examples:-\n",
    "name = \"data science\"\n",
    "length = 9\n",
    "num = 3.456\n",
    "d = [1,2,3]\n",
    "e = {2,3,4}\n",
    "f = (\"e\",\"rf\",8,9)\n",
    "e1 ={\"name\":\"asif\",\"age\":19}\n",
    "#you can verify the data types of these variables using type() function\n"
   ]
  },
  {
   "cell_type": "code",
   "execution_count": 5,
   "id": "9a782d4d-1083-4251-83b9-b730079f80ec",
   "metadata": {},
   "outputs": [],
   "source": [
    "# answer of q.3\n",
    "# we can simply convert one data type to another by using functions like str() ,bool(),int(),float(),list(),set()\n",
    "# simply by putting our variable name inside ()"
   ]
  },
  {
   "cell_type": "code",
   "execution_count": 6,
   "id": "e96aaae2-df08-4964-b9c2-04d1bcd6c222",
   "metadata": {},
   "outputs": [],
   "source": [
    "#answer of q.4\n",
    "#not learned in any classes"
   ]
  },
  {
   "cell_type": "code",
   "execution_count": 12,
   "id": "5b25fd93-26e9-43b7-847a-09f16861ca3e",
   "metadata": {},
   "outputs": [
    {
     "data": {
      "text/plain": [
       "[2, 3]"
      ]
     },
     "execution_count": 12,
     "metadata": {},
     "output_type": "execute_result"
    }
   ],
   "source": [
    "#answer of q.5\n",
    "my_list = [1,2,3,4,5]\n",
    "sub_list = my_list[1:3]\n",
    "sub_list\n"
   ]
  },
  {
   "cell_type": "code",
   "execution_count": 14,
   "id": "968bc339-c845-43ea-80aa-37bfb1a60f99",
   "metadata": {},
   "outputs": [
    {
     "data": {
      "text/plain": [
       "complex"
      ]
     },
     "execution_count": 14,
     "metadata": {},
     "output_type": "execute_result"
    }
   ],
   "source": [
    "#answer of q.6\n",
    "#complex no.s are the no.s which are imaginary.means we dont know what is the value of under root -4.\n",
    "#therefore inder root -1 is taken and written as i {iota}\n",
    "#ex of complex no. 0+3i\n",
    "#general form :- a+-bi\n",
    "#in python it is represente das a+-bj where j is i in python\n",
    "#ex:-\n",
    "z = 3+4j\n",
    "type(z)\n"
   ]
  },
  {
   "cell_type": "code",
   "execution_count": 15,
   "id": "fa9c7c1c-1954-4831-b9e5-2f119d8b99ed",
   "metadata": {},
   "outputs": [],
   "source": [
    "#answer of q.7\n",
    "age =25"
   ]
  },
  {
   "cell_type": "code",
   "execution_count": 16,
   "id": "65d4e121-16bf-45c7-a50d-2b99b2315e85",
   "metadata": {},
   "outputs": [
    {
     "data": {
      "text/plain": [
       "float"
      ]
     },
     "execution_count": 16,
     "metadata": {},
     "output_type": "execute_result"
    }
   ],
   "source": [
    "#answer of q.8\n",
    "price = 9.99\n",
    "type(price)"
   ]
  },
  {
   "cell_type": "code",
   "execution_count": 17,
   "id": "231304fe-167c-468c-ae60-b53528eb1ef2",
   "metadata": {},
   "outputs": [
    {
     "name": "stdout",
     "output_type": "stream",
     "text": [
      "MOHD ASIF KHAN\n"
     ]
    }
   ],
   "source": [
    "#answer of q.9\n",
    "name = \"MOHD ASIF KHAN\"\n",
    "print(name)"
   ]
  },
  {
   "cell_type": "code",
   "execution_count": 18,
   "id": "7394d4f4-b0da-4abe-bbed-87c80316722c",
   "metadata": {},
   "outputs": [
    {
     "data": {
      "text/plain": [
       "'World'"
      ]
     },
     "execution_count": 18,
     "metadata": {},
     "output_type": "execute_result"
    }
   ],
   "source": [
    "#answer of q.10\n",
    "string = \"Hello, World!\"\n",
    "string[7:12]"
   ]
  },
  {
   "cell_type": "code",
   "execution_count": 19,
   "id": "d6057607-e767-4758-9a50-6aae1bcbd7ff",
   "metadata": {},
   "outputs": [
    {
     "name": "stdout",
     "output_type": "stream",
     "text": [
      "True\n"
     ]
    }
   ],
   "source": [
    "#answer of q.11\n",
    "is_student = True\n",
    "print(is_student)"
   ]
  },
  {
   "cell_type": "code",
   "execution_count": null,
   "id": "721d36bf-abb7-4aaa-b15a-71d1d713ac11",
   "metadata": {},
   "outputs": [],
   "source": []
  }
 ],
 "metadata": {
  "kernelspec": {
   "display_name": "Python 3 (ipykernel)",
   "language": "python",
   "name": "python3"
  },
  "language_info": {
   "codemirror_mode": {
    "name": "ipython",
    "version": 3
   },
   "file_extension": ".py",
   "mimetype": "text/x-python",
   "name": "python",
   "nbconvert_exporter": "python",
   "pygments_lexer": "ipython3",
   "version": "3.10.8"
  }
 },
 "nbformat": 4,
 "nbformat_minor": 5
}
